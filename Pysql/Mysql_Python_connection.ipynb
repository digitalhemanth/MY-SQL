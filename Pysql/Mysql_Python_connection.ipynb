{
 "cells": [
  {
   "cell_type": "code",
   "execution_count": 25,
   "id": "38bfdc0b",
   "metadata": {},
   "outputs": [
    {
     "name": "stdout",
     "output_type": "stream",
     "text": [
      "8.0.26\n"
     ]
    }
   ],
   "source": [
    "import mysql.connector\n",
    "from mysql.connector import Error \n",
    "\n",
    "Connection = mysql.connector.connect(host=\"localhost\",\n",
    "                                     database=\"pytest\",\n",
    "                                     user=\"hemanth\",\n",
    "                                     password=\"12345\")\n",
    "\n",
    "print(Connection.get_server_info())"
   ]
  },
  {
   "cell_type": "code",
   "execution_count": 30,
   "id": "cb2833fc",
   "metadata": {},
   "outputs": [
    {
     "name": "stdout",
     "output_type": "stream",
     "text": [
      "[{'Item_id': 1, 'Item_name': 'Shampoo', 'Cost': 200}, {'Item_id': 3, 'Item_name': 'Sope', 'Cost': 100}, {'Item_id': 10, 'Item_name': 'Watch', 'Cost': 500}, {'Item_id': 11, 'Item_name': 'Chain', 'Cost': 1000}, {'Item_id': 16, 'Item_name': 'Sope', 'Cost': 10}, {'Item_id': 80, 'Item_name': 'Chain', 'Cost': 1000}]\n"
     ]
    }
   ],
   "source": [
    "Sql_qry = \"select * from pytest.monthly_bills;\"\n",
    "\n",
    "\n",
    "cursor = Connection.cursor(dictionary=True)\n",
    "cursor.execute(Sql_qry)\n",
    "# get all records\n",
    "records = cursor.fetchall()\n",
    "\n",
    "print(records)"
   ]
  },
  {
   "cell_type": "code",
   "execution_count": null,
   "id": "e23659db",
   "metadata": {},
   "outputs": [],
   "source": []
  }
 ],
 "metadata": {
  "kernelspec": {
   "display_name": "Python 3",
   "language": "python",
   "name": "python3"
  },
  "language_info": {
   "codemirror_mode": {
    "name": "ipython",
    "version": 3
   },
   "file_extension": ".py",
   "mimetype": "text/x-python",
   "name": "python",
   "nbconvert_exporter": "python",
   "pygments_lexer": "ipython3",
   "version": "3.8.8"
  }
 },
 "nbformat": 4,
 "nbformat_minor": 5
}
