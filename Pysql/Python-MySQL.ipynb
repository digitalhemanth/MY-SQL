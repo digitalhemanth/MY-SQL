{
 "cells": [
  {
   "cell_type": "code",
   "execution_count": 8,
   "id": "2e4fb16e",
   "metadata": {},
   "outputs": [
    {
     "name": "stdout",
     "output_type": "stream",
     "text": [
      "Connected to MySQL Server version  8.0.26\n",
      "You're connected to database:  ('pytest',)\n",
      "MySQL connection is closed\n"
     ]
    }
   ],
   "source": [
    "import mysql.connector\n",
    "from mysql.connector import Error\n",
    "\n",
    "try:\n",
    "    connection = mysql.connector.connect(host='localhost',\n",
    "                                         database='pytest',\n",
    "                                         user='hemanth',\n",
    "                                         password='12345')\n",
    "    if connection.is_connected():\n",
    "        db_Info = connection.get_server_info()\n",
    "        print(\"Connected to MySQL Server version \", db_Info)\n",
    "        cursor = connection.cursor()\n",
    "        cursor.execute(\"select database();\")\n",
    "        record = cursor.fetchone()\n",
    "        print(\"You're connected to database: \", record)\n",
    "\n",
    "except Error as e:\n",
    "    print(\"Error while connecting to MySQL\", e)\n",
    "finally:\n",
    "    if connection.is_connected():\n",
    "        cursor.close()\n",
    "        connection.close()\n",
    "        print(\"MySQL connection is closed\")"
   ]
  },
  {
   "cell_type": "code",
   "execution_count": 9,
   "id": "a5d082db",
   "metadata": {},
   "outputs": [
    {
     "name": "stdout",
     "output_type": "stream",
     "text": [
      "Total number of rows in table:  4\n"
     ]
    }
   ],
   "source": [
    " connection = mysql.connector.connect(host='localhost',\n",
    "                                         database='pytest',\n",
    "                                         user='hemanth',\n",
    "                                         password='12345')\n",
    "\n",
    "sql_select_Query = \"select Tech_id,tech_name,cast(tech_date as date) as dates from pytest.tech_list;\"\n",
    "cursor = connection.cursor(dictionary=True)\n",
    "cursor.execute(sql_select_Query)\n",
    "# get all records\n",
    "records = cursor.fetchall()\n",
    "print(\"Total number of rows in table: \", cursor.rowcount)\n"
   ]
  },
  {
   "cell_type": "code",
   "execution_count": 10,
   "id": "1080c231",
   "metadata": {},
   "outputs": [
    {
     "name": "stdout",
     "output_type": "stream",
     "text": [
      "[{'Tech_id': 1, 'tech_name': 'python', 'dates': datetime.date(1998, 1, 23)}, {'Tech_id': 2, 'tech_name': 'Javascript', 'dates': datetime.date(1995, 6, 25)}, {'Tech_id': 3, 'tech_name': 'SQL', 'dates': datetime.date(2000, 1, 12)}, {'Tech_id': 5, 'tech_name': 'DS', 'dates': datetime.date(2022, 1, 12)}]\n"
     ]
    }
   ],
   "source": [
    "print(records)"
   ]
  },
  {
   "cell_type": "code",
   "execution_count": 12,
   "id": "5816e8c0",
   "metadata": {},
   "outputs": [
    {
     "name": "stdout",
     "output_type": "stream",
     "text": [
      "[datetime.date(1998, 1, 23), datetime.date(1995, 6, 25), datetime.date(2000, 1, 12), datetime.date(2022, 1, 12)]\n"
     ]
    }
   ],
   "source": [
    "print( [x['dates'] for x in records ])\n"
   ]
  },
  {
   "cell_type": "code",
   "execution_count": 13,
   "id": "64dc1503",
   "metadata": {},
   "outputs": [
    {
     "name": "stdout",
     "output_type": "stream",
     "text": [
      "   Tech_id   tech_name       dates\n",
      "0        1      python  1998-01-23\n",
      "1        2  Javascript  1995-06-25\n",
      "2        3         SQL  2000-01-12\n",
      "3        5          DS  2022-01-12\n"
     ]
    }
   ],
   "source": [
    "import pandas as pd\n",
    "\n",
    "res = pd.DataFrame.from_dict(records)\n",
    "\n",
    "print(res)\n",
    "\n"
   ]
  },
  {
   "cell_type": "code",
   "execution_count": 15,
   "id": "fd0e8abb",
   "metadata": {},
   "outputs": [
    {
     "ename": "NameError",
     "evalue": "name 'false' is not defined",
     "output_type": "error",
     "traceback": [
      "\u001b[1;31m---------------------------------------------------------------------------\u001b[0m",
      "\u001b[1;31mNameError\u001b[0m                                 Traceback (most recent call last)",
      "\u001b[1;32m<ipython-input-15-654ed63069cb>\u001b[0m in \u001b[0;36m<module>\u001b[1;34m\u001b[0m\n\u001b[1;32m----> 1\u001b[1;33m \u001b[0mprint\u001b[0m\u001b[1;33m(\u001b[0m\u001b[0mres\u001b[0m\u001b[1;33m[\u001b[0m\u001b[1;34m'dates'\u001b[0m\u001b[1;33m]\u001b[0m\u001b[1;33m,\u001b[0m\u001b[0mindex\u001b[0m\u001b[1;33m=\u001b[0m\u001b[0mfalse\u001b[0m\u001b[1;33m)\u001b[0m\u001b[1;33m\u001b[0m\u001b[1;33m\u001b[0m\u001b[0m\n\u001b[0m",
      "\u001b[1;31mNameError\u001b[0m: name 'false' is not defined"
     ]
    }
   ],
   "source": [
    "print(res['dates'])"
   ]
  },
  {
   "cell_type": "code",
   "execution_count": 7,
   "id": "75e9f2f5",
   "metadata": {},
   "outputs": [
    {
     "name": "stdout",
     "output_type": "stream",
     "text": [
      "0    1998-01-23\n",
      "1    1995-06-25\n",
      "2    2000-01-12\n",
      "3    2022-01-12\n",
      "Name: TECH_DATE, dtype: object\n"
     ]
    }
   ],
   "source": [
    "res['TECH_DATE'] = pd.to_datetime(res['TECH_DATE']).dt.date\n",
    "\n",
    "print(res['TECH_DATE'])"
   ]
  },
  {
   "cell_type": "code",
   "execution_count": null,
   "id": "8e609313",
   "metadata": {},
   "outputs": [],
   "source": []
  }
 ],
 "metadata": {
  "kernelspec": {
   "display_name": "Python 3",
   "language": "python",
   "name": "python3"
  },
  "language_info": {
   "codemirror_mode": {
    "name": "ipython",
    "version": 3
   },
   "file_extension": ".py",
   "mimetype": "text/x-python",
   "name": "python",
   "nbconvert_exporter": "python",
   "pygments_lexer": "ipython3",
   "version": "3.8.8"
  }
 },
 "nbformat": 4,
 "nbformat_minor": 5
}
