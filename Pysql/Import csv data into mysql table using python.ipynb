{
 "cells": [
  {
   "cell_type": "code",
   "execution_count": 3,
   "id": "4be677aa",
   "metadata": {},
   "outputs": [
    {
     "name": "stdout",
     "output_type": "stream",
     "text": [
      "Connected to MySQL Server version  8.0.26\n",
      "You're connected to database:  ('pytest',)\n"
     ]
    }
   ],
   "source": [
    "import mysql.connector as sqlconn\n",
    "from mysql.connector import Error\n",
    "\n",
    "connection = sqlconn.connect(host='localhost',\n",
    "                                         database='pytest',\n",
    "                                         user='hemanth',\n",
    "                                         password='12345')\n",
    " \n",
    "\n",
    "db_Info = connection.get_server_info()\n",
    "print(\"Connected to MySQL Server version \", db_Info)\n",
    "cursor = connection.cursor()\n",
    "cursor.execute(\"select database();\")\n",
    "record = cursor.fetchone()\n",
    "print(\"You're connected to database: \", record)\n",
    "\n"
   ]
  },
  {
   "cell_type": "code",
   "execution_count": 4,
   "id": "f7555c40",
   "metadata": {},
   "outputs": [
    {
     "name": "stdout",
     "output_type": "stream",
     "text": [
      "['3', 'Jam', '99', '1.4']\n",
      "['7', 'Milk', '20', '40.6']\n",
      "Done , data has been loaded\n"
     ]
    },
    {
     "data": {
      "text/plain": [
       "True"
      ]
     },
     "execution_count": 4,
     "metadata": {},
     "output_type": "execute_result"
    }
   ],
   "source": [
    "import csv\n",
    "\n",
    "file = open(\"file_to_sql.csv\")\n",
    "#type(file)\n",
    "\n",
    "csv_data = csv.reader(file)\n",
    "#header = next(csv_data) # This skips the first row of the CSV file. \n",
    "\n",
    "for row in csv_data :\n",
    "    print(row)\n",
    "    cursor.execute('insert into products (Id,Name,Cost,Sale) values(%s,%s,%s,%s)',row)\n",
    "    \n",
    "# close the connection to the databse\n",
    "\n",
    "print(\"Done , data has been loaded\")\n",
    "\n",
    "connection.commit()\n",
    "cursor.close()\n"
   ]
  },
  {
   "cell_type": "code",
   "execution_count": null,
   "id": "ec99332b",
   "metadata": {},
   "outputs": [],
   "source": []
  }
 ],
 "metadata": {
  "kernelspec": {
   "display_name": "Python 3",
   "language": "python",
   "name": "python3"
  },
  "language_info": {
   "codemirror_mode": {
    "name": "ipython",
    "version": 3
   },
   "file_extension": ".py",
   "mimetype": "text/x-python",
   "name": "python",
   "nbconvert_exporter": "python",
   "pygments_lexer": "ipython3",
   "version": "3.8.8"
  }
 },
 "nbformat": 4,
 "nbformat_minor": 5
}
